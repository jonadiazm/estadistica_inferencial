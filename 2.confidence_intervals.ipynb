{
 "cells": [
  {
   "cell_type": "code",
   "execution_count": 4,
   "metadata": {},
   "outputs": [],
   "source": [
    "import numpy as np\n",
    "import scipy.stats as stats\n",
    "import matplotlib.pyplot as plt"
   ]
  },
  {
   "cell_type": "markdown",
   "metadata": {},
   "source": [
    "## Intervalos de confianza\n",
    "\n",
    "$ \\bar{x} \\pm Z_{\\alpha/2} . \\frac{\\sigma}{\\sqrt{n}}$"
   ]
  },
  {
   "cell_type": "code",
   "execution_count": 23,
   "metadata": {},
   "outputs": [],
   "source": [
    "# Parámetros de la población\n",
    "mu = 14.2\n",
    "sigma = 3.3"
   ]
  },
  {
   "cell_type": "code",
   "execution_count": 26,
   "metadata": {},
   "outputs": [
    {
     "data": {
      "image/png": "[encoded data removed]",
      "text/plain": [
       "<Figure size 640x480 with 1 Axes>"
      ]
     },
     "metadata": {},
     "output_type": "display_data"
    }
   ],
   "source": [
    "# Tamaño de la muestra\n",
    "sample_size = 100\n",
    "sample = np.random.normal(mu, sigma, sample_size)\n",
    "\n",
    "fig, ax = plt.subplots(1, 1)\n",
    "ax.hist(sample, bins=30, density=True)\n",
    "plt.show()"
   ]
  },
  {
   "cell_type": "code",
   "execution_count": 28,
   "metadata": {},
   "outputs": [
    {
     "name": "stdout",
     "output_type": "stream",
     "text": [
      "Media muestral:  13.702209402670603\n",
      "Desviación estándar muestral:  3.5209076702976283\n"
     ]
    }
   ],
   "source": [
    "x_bar = np.mean(sample)\n",
    "s = np.std(sample)\n",
    "\n",
    "print(\"Media muestral: \", x_bar)\n",
    "print(\"Desviación estándar muestral: \", s)"
   ]
  },
  {
   "cell_type": "code",
   "execution_count": null,
   "metadata": {},
   "outputs": [
    {
     "name": "stdout",
     "output_type": "stream",
     "text": [
      "Con un nivel de confianza del 95.0%, la media poblacional se encuentra entre 13.0086 y 14.3958\n"
     ]
    }
   ],
   "source": [
    "# Intervalo de confianza del 95%\n",
    "alpha = 0.05\n",
    "confidence = 1 - alpha\n",
    "Z = stats.norm.ppf(1 - alpha / 2)\n",
    "sem = s / np.sqrt(sample_size-1)\n",
    "\n",
    "x_min = x_bar - Z * sem\n",
    "x_max = x_bar + Z * sem\n",
    "print(f\"Con un nivel de confianza del {confidence*100}%, la media poblacional se encuentra entre {x_min:.4f} y {x_max:.4f}\")"
   ]
  },
  {
   "cell_type": "code",
   "execution_count": 51,
   "metadata": {},
   "outputs": [
    {
     "name": "stdout",
     "output_type": "stream",
     "text": [
      "Con un nivel de confianza del 95.0%, la media poblacional se encuentra entre 13.0086 y 14.3958\n"
     ]
    }
   ],
   "source": [
    "interval = stats.norm.interval(confidence, loc=x_bar, scale=sem)\n",
    "print(f\"Con un nivel de confianza del {confidence*100}%, la media poblacional se encuentra entre {interval[0]:.4f} y {interval[1]:.4f}\")"
   ]
  }
 ],
 "metadata": {
  "kernelspec": {
   "display_name": ".venv",
   "language": "python",
   "name": "python3"
  },
  "language_info": {
   "codemirror_mode": {
    "name": "ipython",
    "version": 3
   },
   "file_extension": ".py",
   "mimetype": "text/x-python",
   "name": "python",
   "nbconvert_exporter": "python",
   "pygments_lexer": "ipython3",
   "version": "3.12.9"
  }
 },
 "nbformat": 4,
 "nbformat_minor": 2
}
